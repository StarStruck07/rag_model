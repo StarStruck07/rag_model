{
 "cells": [
  {
   "cell_type": "code",
   "execution_count": 17,
   "metadata": {},
   "outputs": [],
   "source": [
    "from langchain_ollama import OllamaLLM\n",
    "from langchain.chat_models import init_chat_model\n",
    "import getpass\n",
    "import os\n",
    "\n",
    "llm = init_chat_model(\"llama3.1\",model_provider = \"Ollama\")\n"
   ]
  },
  {
   "cell_type": "code",
   "execution_count": 21,
   "metadata": {},
   "outputs": [],
   "source": [
    "\n",
    "if not os.environ.get(\"TAVILY_API_KEY\"):\n",
    "    os.environ[\"TAVILY_API_KEY\"] = getpass.getpass(\"Tavily API key:\\n\")\n",
    "from langchain_tavily import TavilySearch\n",
    "tool = TavilySearch(\n",
    "    max_results=5,\n",
    "    topic=\"general\"\n",
    ")"
   ]
  },
  {
   "cell_type": "code",
   "execution_count": 19,
   "metadata": {},
   "outputs": [
    {
     "name": "stdout",
     "output_type": "stream",
     "text": [
      "================================\u001b[1m Human Message \u001b[0m=================================\n",
      "\n",
      "When is jee advanced 2025 going to be held?\n",
      "==================================\u001b[1m Ai Message \u001b[0m==================================\n",
      "Tool Calls:\n",
      "  tavily_search (8d979609-a2cb-4162-a74d-89b78b848db5)\n",
      " Call ID: 8d979609-a2cb-4162-a74d-89b78b848db5\n",
      "  Args:\n",
      "    query: jee advanced 2025 exam date\n",
      "    search_depth: advanced\n",
      "    topic: general\n",
      "=================================\u001b[1m Tool Message \u001b[0m=================================\n",
      "Name: tavily_search\n",
      "\n",
      "{\"query\": \"jee advanced 2025 exam date\", \"follow_up_questions\": null, \"answer\": null, \"images\": [], \"results\": [{\"url\": \"https://allen.in/jee-advanced/exam-dates\", \"title\": \"JEE Advanced 2025 Exam Date (OUT) - Allen\", \"content\": \"June 02, 2025\\n\\n2.0JEE Advanced 2025 Exam Dates\\n\\nThe official exam date for JEE Advanced 2025 is 18th May, 2025 released by the conducting authority, i.e., IIT Kanpur, on 2nd December 2024. ALLEN has updated the dates on this page and will update more details regarding the application form as soon as it is released on the official website - jeeadv.ac.in/. [...] From taiyyari to top results-ALLEN Online students shine!\\n\\nJEE Advanced 2025 Exam Date OUT\\n\\nThe organizing institute, IIT Kanpur, is set to conduct the JEE Advanced 2025 examination on 18th May 2025. The exam will be held in two sessions: Paper 1 is scheduled from 9:00 AM to 12:00 PM IST, and Paper 2 will take place from 2:30 PM to 5:30 PM IST. [...] Dates\\n\\nJEE Advanced 2025 Application Form Release\\n\\nApril 23, 2025\\n\\nLast date of Registration\\n\\nMay 02, 2025\\n\\nJEE Advanced Admit Card 2025 Releasing Date\\n\\nMay 11, 2025 to\\n\\nMay 18, 2025\\n\\nExam Date of JEE Advanced 2025\\n\\n18th May 2025\\n\\nCopy of candidate responses of JEE Advanced 2025\\n\\nMay 22, 2025\\n\\nJEE Advanced Answer Key 2025 (Provisional)\\n\\nMay 26, 2025\\n\\nLast date of Objections in JEE Advanced\\n\\nMay 27, 2025\\n\\nJEE Advanced 2025 Answer Key (Final)\\n\\nJune 02, 2025\\n\\nJEE Advanced 2025 Result Date\", \"score\": 0.9599465, \"raw_content\": null}, {\"url\": \"https://www.jagranjosh.com/exams/jee-advanced\", \"title\": \"JEE Advanced 2025: Information Brochure Out, Apply Online (April ...\", \"content\": \"The JEE Advanced 2025 registration shall begin from 23rd April 2025. The JEE Advanced 2025 exam date is on 18th May 2025. Check the following\", \"score\": 0.9564761, \"raw_content\": null}, {\"url\": \"https://jeeadv.ac.in/\", \"title\": \"JEE (Advanced) 2025\", \"content\": \"The Information Brochure of JEE Advanced 2025 is released [Link]\\n\\nExamination Date\\n\\nJEE Advanced 2025 will be held on Sunday, 18th May, 2025 [Link]\\n\\nQuick Links\\n\\nImportant Links\\n\\nContact Us\\n\\nParticipating Institutes [...] Updated version of Information Brochure is uploaded.\\n\\nImportant Announcements\\n\\nOnline Direct Registration for Foreign National Candidates and OCI/PIO (F) Candidates\\n\\nOnline Direct Registration for JEE (Advanced) 2025 for Foreign National Candidates and OCI/PIO (F) Candidates will open on 7th April, 2025 (10:00 IST) and close on 2nd May, 2025\\r\\n        (23:59 IST). The last date for fee payment of registered candidates is 5th May, 2025 (23:59 IST) [...] Consequent to the recent order of the Honâble Supreme Court of India (pertaining to Writ Petition (Civil) Nos. 854/2024 and 17/2025) dated 10.01.2025, students who appeared in their class 12 examination for the first time in 2023 AND have withdrawn from their courses and dropped out between 05.11.2024 to 18.11.2024 would be permitted to register for JEE (Advanced) 2025. Please see Annexure VI of JEE (Advanced) 2025 Information Brochure for detailed information [Link]\\n\\nInformation Brochure\", \"score\": 0.9529303, \"raw_content\": null}, {\"url\": \"https://www.shikshacampus.com/jee-advanced-exam-date/\", \"title\": \"JEE Advanced Exam Date 2025 (OUT) - Shiksha Campus\", \"content\": \"The JEE Advanced 2025 exam will be held on May 18, 2025. The exam will be conducted by IIT Knapur in two shifts for Paper 1 and Paper 2.\", \"score\": 0.9492242, \"raw_content\": null}, {\"url\": \"https://www.shiksha.com/engineering/jee-advanced-exam\", \"title\": \"JEE Advanced 2025: Registration (Apr 23), Exam Date (May 18 ...\", \"content\": \"The JEE Advanced 2025 exam will be held ion May 18. JEE Advanced 2025 will be conducted by IIT Kanpur. JEE Main 2025 qualified candidates who achieve rank among\", \"score\": 0.93511593, \"raw_content\": null}], \"response_time\": 3.27}\n",
      "==================================\u001b[1m Ai Message \u001b[0m==================================\n",
      "\n",
      "The JEE Advanced 2025 exam will be held on May 18, 2025. The exam will be conducted by IIT Kanpur in two shifts for Paper 1 and Paper 2.\n"
     ]
    }
   ],
   "source": [
    "from langgraph.prebuilt import create_react_agent\n",
    "agent = create_react_agent(llm, [tool])\n",
    "user_input = \"When is jee advanced 2025 going to be held?\"\n",
    "for step in agent.stream(\n",
    "    {\"messages\": user_input},\n",
    "    stream_mode=\"values\",\n",
    "):\n",
    "    step[\"messages\"][-1].pretty_print()"
   ]
  }
 ],
 "metadata": {
  "kernelspec": {
   "display_name": "rag_env",
   "language": "python",
   "name": "python3"
  },
  "language_info": {
   "codemirror_mode": {
    "name": "ipython",
    "version": 3
   },
   "file_extension": ".py",
   "mimetype": "text/x-python",
   "name": "python",
   "nbconvert_exporter": "python",
   "pygments_lexer": "ipython3",
   "version": "3.13.2"
  }
 },
 "nbformat": 4,
 "nbformat_minor": 2
}
