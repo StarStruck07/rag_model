{
 "cells": [
  {
   "cell_type": "code",
   "execution_count": 1,
   "metadata": {},
   "outputs": [],
   "source": [
    "from langchain_ollama import OllamaLLM\n",
    "from langchain.chat_models import init_chat_model\n",
    "import getpass\n",
    "import os\n",
    "import torch\n",
    "device = torch.device(\"mps\" if torch.backends.mps.is_available() else \"cpu\")\n",
    "\n",
    "llm = init_chat_model(\"llama3.1\",model_provider = \"Ollama\")"
   ]
  },
  {
   "cell_type": "code",
   "execution_count": 2,
   "metadata": {},
   "outputs": [
    {
     "name": "stderr",
     "output_type": "stream",
     "text": [
      "/Users/nilaychheda/Desktop/CodingShit/RAG/rag_env/lib/python3.13/site-packages/tqdm/auto.py:21: TqdmWarning: IProgress not found. Please update jupyter and ipywidgets. See https://ipywidgets.readthedocs.io/en/stable/user_install.html\n",
      "  from .autonotebook import tqdm as notebook_tqdm\n"
     ]
    }
   ],
   "source": [
    "from langchain_community.document_loaders import CSVLoader\n",
    "from langchain_community.vectorstores import Chroma\n",
    "from langchain_huggingface import HuggingFaceEmbeddings\n",
    "loader = CSVLoader(\n",
    "    file_path = 'nirf_clean.csv',\n",
    "    source_column=\"Name\",\n",
    "    metadata_columns=[\"Rank\",\"State\"],\n",
    ")\n",
    "docs = loader.load()\n",
    "embed = HuggingFaceEmbeddings(\n",
    "    model_name=\"sentence-transformers/all-MiniLM-L6-v2\",\n",
    "    model_kwargs={\"device\": device}\n",
    "    )\n",
    "db = Chroma.from_documents(docs,embed,persist_directory=\"./chroma_db\")\n",
    "retiever = db.as_retriever(search_kargs={\"k\":3})"
   ]
  },
  {
   "cell_type": "code",
   "execution_count": 3,
   "metadata": {},
   "outputs": [],
   "source": [
    "\n",
    "if not os.environ.get(\"TAVILY_API_KEY\"):\n",
    "    os.environ[\"TAVILY_API_KEY\"] = getpass.getpass(\"Tavily API key: \")\n",
    "from langchain_tavily import TavilySearch\n",
    "search_tool = TavilySearch(\n",
    "    max_results=5,\n",
    "    topic=\"general\"\n",
    "    )"
   ]
  },
  {
   "cell_type": "code",
   "execution_count": null,
   "metadata": {},
   "outputs": [],
   "source": [
    "\"\"\" from langchain_huggingface import HuggingFaceEmbeddings\n",
    "from langchain_core.documents import Document\n",
    "from accelerate import init_empty_weights\n",
    "embed = HuggingFaceEmbeddings(model_name=\"sentence-transformers/all-MiniLM-L6-v2\",model_kwargs={\"device\": device})\n",
    "response = search_tool.invoke({\"query\": \"What was the cutoff for nit trichy cs in 2024?\"})\n",
    "print(response)\n",
    "raw_docs = response['results']\n",
    "docs = [\n",
    "    Document(page_content=res['content'],metadata={\"url\": res['url']}) for res in raw_docs\n",
    "]\n",
    "db = Chroma.from_documents(docs,embed,persist_directory=\"chroma_db\") \"\"\""
   ]
  },
  {
   "cell_type": "code",
   "execution_count": 4,
   "metadata": {},
   "outputs": [
    {
     "name": "stderr",
     "output_type": "stream",
     "text": [
      "/var/folders/q5/g1s9s5h155s0fl0r7wf047640000gn/T/ipykernel_94515/2033394661.py:2: LangChainDeprecationWarning: Please see the migration guide at: https://python.langchain.com/docs/versions/migrating_memory/\n",
      "  memory = ConversationBufferMemory(\n"
     ]
    }
   ],
   "source": [
    "from langchain.memory import ConversationBufferMemory\n",
    "memory = ConversationBufferMemory(\n",
    "    memory_key=\"history\",\n",
    "    input_key=\"input\"\n",
    "    )"
   ]
  },
  {
   "cell_type": "code",
   "execution_count": 5,
   "metadata": {},
   "outputs": [],
   "source": [
    "from langchain_core.prompts import ChatPromptTemplate\n",
    "from langchain.chains.combine_documents import create_stuff_documents_chain\n",
    "from langchain.chains import create_retrieval_chain\n",
    "template = \"\"\"\n",
    "You are an AI agent, specifically modeled to answer questions related to various engineering enterance exams in India.\n",
    "You should ask the user various questions related to his exam scores, branch preferences, interests etc to access his profile, and then reccomend him 3 colleges\n",
    "You must answer all the queires wihh the context provided below:\n",
    "Here is some relevant context form old database : {context}\n",
    "Here is some context taken from web: {web_context}\n",
    "Here is the chat history: {history}\n",
    "Here is the query : {input}\n",
    "\"\"\"\n",
    "\n",
    "prompt = ChatPromptTemplate.from_template(template)\n",
    "\n",
    "document_chain = create_stuff_documents_chain(llm,prompt)\n",
    "rag_chain = create_retrieval_chain(retiever,document_chain)\n"
   ]
  },
  {
   "cell_type": "code",
   "execution_count": 6,
   "metadata": {},
   "outputs": [
    {
     "name": "stdout",
     "output_type": "stream",
     "text": [
      "Hello! I am a llm agent to help with all your doubts regarding the various diffrent engineering entrance exams in India.Type 'exit' to quit\n",
      "AI: The JEE Advanced 2025 examination is scheduled to be held on Sunday, May 18, 2025. It will consist of two papers - Paper 1 from 9:00 AM to 12:00 PM IST and Paper 2 from 2:30 PM to 5:30 PM IST.\n",
      "\n",
      "However, I'd like to know more about your interests and goals. What branch are you interested in pursuing after clearing JEE Advanced? Are you inclined towards core branches like CS or EE, or do you have a preference for Humanities or other disciplines?\n",
      "\n",
      "Also, could you please share your expected rank and branch preferences? This will help me provide you with more tailored recommendations.\n",
      "AI: Thank you for sharing your details with me.\n",
      "\n",
      "Considering your expected rank of 5000 in JEE Advanced and your preferences for CS, ECE, or other technical branches, here are three college recommendations for you:\n",
      "\n",
      "1. **Indian Institute of Engineering Science and Technology, Shibpur**: With a rank of around 5000, you may have a good chance of getting admission into IIES&T, which is known for its strong engineering programs. While it's not an IIT, it's a well-regarded institution in the field of engineering.\n",
      "2. **International Institute of Information Technology Bangalore (IIIT-B)**: IIIT-B is a highly-regarded institute that offers a range of technical programs, including CS and ECE. With your expected rank, you may have a good chance of getting admission into this prestigious institute.\n",
      "3. **Delhi Technological University**: DTU is a well-established university in Delhi that offers a wide range of engineering programs, including CS, ECE, and other technical branches. With a rank of around 5000, you may be eligible for admission into this university.\n",
      "\n",
      "Please note that these recommendations are based on your expected rank and preferences, but the actual admissions process will depend on various factors, including your performance in JEE Advanced, counseling, and seat allocation.\n",
      "\n",
      "Now, I have a few more questions to help me better understand your profile:\n",
      "\n",
      "* What are your interests outside of academics? Do you have any hobbies or passions that could be relevant to your career choices?\n",
      "* Have you considered any other colleges or universities apart from the ones mentioned above?\n",
      "* Are there any specific factors that are most important to you when choosing a college, such as location, faculty expertise, or campus life?\n",
      "\n",
      "Let me know your thoughts on these questions!\n",
      "Exiting conversation.\n"
     ]
    }
   ],
   "source": [
    "from langchain_core.documents import Document\n",
    "from accelerate import init_empty_weights\n",
    "\n",
    "print(\"Hello! I am a llm agent to help with all your doubts regarding the various diffrent engineering entrance exams in India.\" \\\n",
    "\"Type 'exit' to quit\")\n",
    "while True:\n",
    "    user_input = input(\"\\nUser: \")\n",
    "    if user_input == \"exit\":\n",
    "        print(\"Exiting conversation.\")\n",
    "        break\n",
    "\n",
    "    db_results = retiever.invoke(user_input)\n",
    "    context = \"\\n\".join(res.page_content for res in db_results)\n",
    "\n",
    "    web_results = search_tool.invoke({\"query\":user_input})\n",
    "    raw = web_results['results']\n",
    "    web_context = [\n",
    "        Document(page_content=res['content'], metadata= {\"url\": res['url']}) for res in raw\n",
    "    ]\n",
    "    history_dict = memory.load_memory_variables({})\n",
    "    history = history_dict.get(\"history\", \"\")\n",
    "\n",
    "    response = rag_chain.invoke({\n",
    "        \"input\": user_input,\n",
    "        \"web_context\": web_context,\n",
    "        \"context\": context,\n",
    "        \"history\": history,\n",
    "    })\n",
    "    memory.save_context({\"input\": user_input},{\"output\":response['answer']})\n",
    "    print(f\"AI: {response['answer']}\")"
   ]
  }
 ],
 "metadata": {
  "kernelspec": {
   "display_name": "rag_env",
   "language": "python",
   "name": "python3"
  },
  "language_info": {
   "codemirror_mode": {
    "name": "ipython",
    "version": 3
   },
   "file_extension": ".py",
   "mimetype": "text/x-python",
   "name": "python",
   "nbconvert_exporter": "python",
   "pygments_lexer": "ipython3",
   "version": "3.13.2"
  }
 },
 "nbformat": 4,
 "nbformat_minor": 2
}
